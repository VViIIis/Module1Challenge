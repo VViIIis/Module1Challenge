{
 "cells": [
  {
   "cell_type": "code",
   "execution_count": 1,
   "id": "214fb787-9031-451e-ade9-0aed6f470a2a",
   "metadata": {},
   "outputs": [
    {
     "name": "stdout",
     "output_type": "stream",
     "text": [
      "H\n",
      "e\n",
      "l\n",
      "l\n",
      "o\n",
      " \n",
      "W\n",
      "o\n",
      "r\n",
      "l\n",
      "d\n"
     ]
    }
   ],
   "source": [
    "for letter in \"Hello World\":\n",
    "    print(letter)"
   ]
  },
  {
   "cell_type": "code",
   "execution_count": 3,
   "id": "8f82a7f7-3e8c-4ab0-860a-b6a177b61952",
   "metadata": {},
   "outputs": [
    {
     "name": "stdout",
     "output_type": "stream",
     "text": [
      "0\n",
      "1\n",
      "2\n",
      "3\n",
      "4\n",
      "5\n",
      "6\n",
      "7\n",
      "8\n",
      "9\n",
      "10\n",
      "11\n",
      "12\n",
      "13\n"
     ]
    }
   ],
   "source": [
    "num_list = [2, 65, 3, 7, 39, 22, 11, 94, 299, 9, 20, 21, 51, 37]\n",
    "for i in range(len(num_list)):\n",
    "    print(i)"
   ]
  },
  {
   "cell_type": "code",
   "execution_count": 4,
   "id": "c48699aa-227c-44ed-90fc-df33ff844edd",
   "metadata": {},
   "outputs": [
    {
     "data": {
      "text/plain": [
       "37"
      ]
     },
     "execution_count": 4,
     "metadata": {},
     "output_type": "execute_result"
    }
   ],
   "source": [
    "num_list[13]"
   ]
  },
  {
   "cell_type": "code",
   "execution_count": 32,
   "id": "50a541ff-7b37-44c2-ae77-486e312f6bd9",
   "metadata": {},
   "outputs": [],
   "source": [
    "def name_of_function(input1, input2, input3=10):\n",
    "    \n",
    "    return input1 + input2"
   ]
  },
  {
   "cell_type": "code",
   "execution_count": 33,
   "id": "8e4e4e03-1e98-4dfa-870c-a3307221a681",
   "metadata": {},
   "outputs": [],
   "source": [
    "value = name_of_function(34, 100, 60)"
   ]
  },
  {
   "cell_type": "code",
   "execution_count": 31,
   "id": "0d015717-2660-4ba5-bbc0-58eb1391db95",
   "metadata": {},
   "outputs": [
    {
     "data": {
      "text/plain": [
       "134"
      ]
     },
     "execution_count": 31,
     "metadata": {},
     "output_type": "execute_result"
    }
   ],
   "source": [
    "value"
   ]
  },
  {
   "cell_type": "code",
   "execution_count": 21,
   "id": "e75b15f8-826f-4d5d-9b9e-c52d65d45760",
   "metadata": {},
   "outputs": [
    {
     "data": {
      "text/plain": [
       "1.34"
      ]
     },
     "execution_count": 21,
     "metadata": {},
     "output_type": "execute_result"
    }
   ],
   "source": [
    "input3"
   ]
  },
  {
   "cell_type": "code",
   "execution_count": 22,
   "id": "d68d902a-3cea-4932-875d-d636a6ee34c9",
   "metadata": {},
   "outputs": [],
   "source": [
    "my_tuple = (2,3)"
   ]
  },
  {
   "cell_type": "code",
   "execution_count": 24,
   "id": "6e48deee-0ca2-4b75-a380-5533fc12f094",
   "metadata": {},
   "outputs": [
    {
     "ename": "TypeError",
     "evalue": "'tuple' object does not support item assignment",
     "output_type": "error",
     "traceback": [
      "\u001b[0;31m---------------------------------------------------------------------------\u001b[0m",
      "\u001b[0;31mTypeError\u001b[0m                                 Traceback (most recent call last)",
      "Input \u001b[0;32mIn [24]\u001b[0m, in \u001b[0;36m<cell line: 1>\u001b[0;34m()\u001b[0m\n\u001b[0;32m----> 1\u001b[0m my_tuple[\u001b[38;5;241m1\u001b[39m] \u001b[38;5;241m=\u001b[39m \u001b[38;5;241m9\u001b[39m\n",
      "\u001b[0;31mTypeError\u001b[0m: 'tuple' object does not support item assignment"
     ]
    }
   ],
   "source": [
    "my_tuple[1] = 9"
   ]
  },
  {
   "cell_type": "code",
   "execution_count": null,
   "id": "f3e9fa68-316e-4eb0-b176-e54c076835fe",
   "metadata": {},
   "outputs": [],
   "source": []
  }
 ],
 "metadata": {
  "kernelspec": {
   "display_name": "Python 3 (ipykernel)",
   "language": "python",
   "name": "python3"
  },
  "language_info": {
   "codemirror_mode": {
    "name": "ipython",
    "version": 3
   },
   "file_extension": ".py",
   "mimetype": "text/x-python",
   "name": "python",
   "nbconvert_exporter": "python",
   "pygments_lexer": "ipython3",
   "version": "3.9.7"
  }
 },
 "nbformat": 4,
 "nbformat_minor": 5
}
